{
 "cells": [
  {
   "cell_type": "code",
   "execution_count": 1,
   "id": "fa9adc17",
   "metadata": {},
   "outputs": [],
   "source": [
    "import numpy as np                                                          # libraries for manipulating arrays\n",
    "import cv2                                                                  # for image processing\n",
    "import matplotlib                                                           # for data visualisation\n",
    "from matplotlib import pyplot as plt\n",
    "%matplotlib inline                                                         "
   ]
  },
  {
   "cell_type": "code",
   "execution_count": 6,
   "id": "f9e6ebac",
   "metadata": {},
   "outputs": [
    {
     "data": {
      "text/plain": [
       "array([[222,  61, 179, 179]])"
      ]
     },
     "execution_count": 6,
     "metadata": {},
     "output_type": "execute_result"
    }
   ],
   "source": [
    "# importing cascades\n",
    "# these cascades are used to identify different parts of the face\n",
    "\n",
    "face_cascade = cv2.CascadeClassifier('./opencv/haarcascades/haarcascade_frontalface_default.xml')\n",
    "eye_cascade = cv2.CascadeClassifier('./opencv/haarcascades/haarcascade_eye.xml')\n",
    "\n",
    "faces = face_cascade.detectMultiScale(gray, 1.3, 5)                 # the last two parameters are scaleFactor and minNeighbors\n",
    "faces"
   ]
  },
  {
   "cell_type": "code",
   "execution_count": 11,
   "id": "374a6033",
   "metadata": {},
   "outputs": [],
   "source": [
    "def get_cropped_image_if_2_eyes(image_path):\n",
    "    if image_path is not None:\n",
    "        img = cv2.imread(image_path)\n",
    "    #     img = cv2.imdecode(np.fromfile(image_path, dtype=np.uint8), -1)\n",
    "        gray = cv2.cvtColor(img, cv2.COLOR_BGR2GRAY)\n",
    "    #     gray = cv2.imdecode(np.fromfile(image_path, dtype=np.uint8), -1)\n",
    "        gray = np.array(gray, dtype='uint8')\n",
    "        faces = face_cascade.detectMultiScale(gray, 1.3, 5)\n",
    "        for (x,y,w,h) in faces:\n",
    "            roi_gray = gray[y:y+h, x:x+w]\n",
    "            roi_color = img[y:y+h, x:x+w]\n",
    "            eyes = eye_cascade.detectMultiScale(roi_gray)\n",
    "            if len(eyes) >= 2:\n",
    "                return roi_color\n",
    "    else:\n",
    "        return None"
   ]
  },
  {
   "cell_type": "code",
   "execution_count": 16,
   "id": "a33cf3cf",
   "metadata": {},
   "outputs": [],
   "source": [
    "path_to_data = \"./dataset/\"\n",
    "path_to_cr_data = \"./dataset/cropped/\""
   ]
  },
  {
   "cell_type": "code",
   "execution_count": 17,
   "id": "69736aea",
   "metadata": {},
   "outputs": [],
   "source": [
    "import os\n",
    "img_dirs = []\n",
    "# This loop iterates through all the files in the directory and saves the path to the list\n",
    "for entry in os.scandir(path_to_data):\n",
    "    if entry.is_dir():\n",
    "        img_dirs.append(entry.path)"
   ]
  },
  {
   "cell_type": "code",
   "execution_count": 18,
   "id": "b86577e5",
   "metadata": {},
   "outputs": [
    {
     "data": {
      "text/plain": [
       "['./dataset/cropped',\n",
       " './dataset/di_caprio',\n",
       " './dataset/dulquar_salmaan',\n",
       " './dataset/lionel_messi',\n",
       " './dataset/sachin_tendulkar',\n",
       " './dataset/will_smith']"
      ]
     },
     "execution_count": 18,
     "metadata": {},
     "output_type": "execute_result"
    }
   ],
   "source": [
    "img_dirs"
   ]
  },
  {
   "cell_type": "code",
   "execution_count": 19,
   "id": "1d9f2298",
   "metadata": {},
   "outputs": [],
   "source": [
    "import shutil\n",
    "if os.path.exists(path_to_cr_data):\n",
    "     shutil.rmtree(path_to_cr_data)\n",
    "os.mkdir(path_to_cr_data)\n",
    "# here we creates a 'cropped' folder"
   ]
  },
  {
   "cell_type": "code",
   "execution_count": 20,
   "id": "8d99e712",
   "metadata": {
    "scrolled": true
   },
   "outputs": [
    {
     "name": "stdout",
     "output_type": "stream",
     "text": [
      "cropped\n",
      "di_caprio\n",
      "Generating cropped images in folder:  ./dataset/cropped/di_caprio\n",
      "dulquar_salmaan\n",
      "Generating cropped images in folder:  ./dataset/cropped/dulquar_salmaan\n",
      "lionel_messi\n",
      "Generating cropped images in folder:  ./dataset/cropped/lionel_messi\n",
      "sachin_tendulkar\n",
      "Generating cropped images in folder:  ./dataset/cropped/sachin_tendulkar\n",
      "will_smith\n",
      "Generating cropped images in folder:  ./dataset/cropped/will_smith\n"
     ]
    }
   ],
   "source": [
    "cropped_image_dirs = []\n",
    "celebrity_file_names_dict = {}\n",
    "\n",
    "for img_dir in img_dirs:\n",
    "    count = 1\n",
    "    celebrity_name = img_dir.split('/')[-1]\n",
    "    print(celebrity_name)\n",
    "    \n",
    "    celebrity_file_names_dict[celebrity_name] = []\n",
    "    \n",
    "    for entry in os.scandir(img_dir):\n",
    "        roi_color = get_cropped_image_if_2_eyes(entry.path)\n",
    "        if roi_color is not None:\n",
    "            cropped_folder = path_to_cr_data + celebrity_name\n",
    "            if not os.path.exists(cropped_folder):\n",
    "                os.makedirs(cropped_folder)\n",
    "                cropped_image_dirs.append(cropped_folder)\n",
    "                print(\"Generating cropped images in folder: \",cropped_folder)\n",
    "                \n",
    "            cropped_file_name = celebrity_name + str(count) + \".png\"\n",
    "            cropped_file_path = cropped_folder + \"/\" + cropped_file_name \n",
    "            \n",
    "            cv2.imwrite(cropped_file_path, roi_color)\n",
    "            celebrity_file_names_dict[celebrity_name].append(cropped_file_path)\n",
    "            count += 1    "
   ]
  },
  {
   "cell_type": "code",
   "execution_count": 21,
   "id": "e913a4ba",
   "metadata": {},
   "outputs": [],
   "source": [
    "import numpy as np\n",
    "import pywt\n",
    "import cv2    \n",
    "\n",
    "def w2d(img, mode='haar', level=1):\n",
    "    imArray = img\n",
    "    #Datatype conversions\n",
    "    #convert to grayscale\n",
    "    imArray = cv2.cvtColor( imArray,cv2.COLOR_RGB2GRAY )\n",
    "    #convert to float\n",
    "    imArray =  np.float32(imArray)   \n",
    "    imArray /= 255;\n",
    "    # compute coefficients \n",
    "    coeffs=pywt.wavedec2(imArray, mode, level=level)\n",
    "\n",
    "    #Process Coefficients\n",
    "    coeffs_H=list(coeffs)  \n",
    "    coeffs_H[0] *= 0;  \n",
    "\n",
    "    # reconstruction\n",
    "    imArray_H=pywt.waverec2(coeffs_H, mode);\n",
    "    imArray_H *= 255;\n",
    "    imArray_H =  np.uint8(imArray_H)\n",
    "\n",
    "    return imArray_H"
   ]
  },
  {
   "cell_type": "code",
   "execution_count": 22,
   "id": "4d3aec88",
   "metadata": {},
   "outputs": [
    {
     "data": {
      "text/plain": [
       "{'di_caprio': ['./dataset/cropped/di_caprio\\\\di_caprio1.png',\n",
       "  './dataset/cropped/di_caprio\\\\di_caprio10.png',\n",
       "  './dataset/cropped/di_caprio\\\\di_caprio11.png',\n",
       "  './dataset/cropped/di_caprio\\\\di_caprio12.png',\n",
       "  './dataset/cropped/di_caprio\\\\di_caprio13.png',\n",
       "  './dataset/cropped/di_caprio\\\\di_caprio14.png',\n",
       "  './dataset/cropped/di_caprio\\\\di_caprio15.png',\n",
       "  './dataset/cropped/di_caprio\\\\di_caprio16.png',\n",
       "  './dataset/cropped/di_caprio\\\\di_caprio17.png',\n",
       "  './dataset/cropped/di_caprio\\\\di_caprio18.png',\n",
       "  './dataset/cropped/di_caprio\\\\di_caprio19.png',\n",
       "  './dataset/cropped/di_caprio\\\\di_caprio2.png',\n",
       "  './dataset/cropped/di_caprio\\\\di_caprio20.png',\n",
       "  './dataset/cropped/di_caprio\\\\di_caprio21.png',\n",
       "  './dataset/cropped/di_caprio\\\\di_caprio22.png',\n",
       "  './dataset/cropped/di_caprio\\\\di_caprio23.png',\n",
       "  './dataset/cropped/di_caprio\\\\di_caprio24.png',\n",
       "  './dataset/cropped/di_caprio\\\\di_caprio25.png',\n",
       "  './dataset/cropped/di_caprio\\\\di_caprio26.png',\n",
       "  './dataset/cropped/di_caprio\\\\di_caprio27.png',\n",
       "  './dataset/cropped/di_caprio\\\\di_caprio28.png',\n",
       "  './dataset/cropped/di_caprio\\\\di_caprio29.png',\n",
       "  './dataset/cropped/di_caprio\\\\di_caprio3.png',\n",
       "  './dataset/cropped/di_caprio\\\\di_caprio30.png',\n",
       "  './dataset/cropped/di_caprio\\\\di_caprio31.png',\n",
       "  './dataset/cropped/di_caprio\\\\di_caprio32.png',\n",
       "  './dataset/cropped/di_caprio\\\\di_caprio33.png',\n",
       "  './dataset/cropped/di_caprio\\\\di_caprio34.png',\n",
       "  './dataset/cropped/di_caprio\\\\di_caprio35.png',\n",
       "  './dataset/cropped/di_caprio\\\\di_caprio36.png',\n",
       "  './dataset/cropped/di_caprio\\\\di_caprio37.png',\n",
       "  './dataset/cropped/di_caprio\\\\di_caprio38.png',\n",
       "  './dataset/cropped/di_caprio\\\\di_caprio39.png',\n",
       "  './dataset/cropped/di_caprio\\\\di_caprio4.png',\n",
       "  './dataset/cropped/di_caprio\\\\di_caprio40.png',\n",
       "  './dataset/cropped/di_caprio\\\\di_caprio41.png',\n",
       "  './dataset/cropped/di_caprio\\\\di_caprio42.png',\n",
       "  './dataset/cropped/di_caprio\\\\di_caprio43.png',\n",
       "  './dataset/cropped/di_caprio\\\\di_caprio44.png',\n",
       "  './dataset/cropped/di_caprio\\\\di_caprio45.png',\n",
       "  './dataset/cropped/di_caprio\\\\di_caprio46.png',\n",
       "  './dataset/cropped/di_caprio\\\\di_caprio47.png',\n",
       "  './dataset/cropped/di_caprio\\\\di_caprio5.png',\n",
       "  './dataset/cropped/di_caprio\\\\di_caprio6.png',\n",
       "  './dataset/cropped/di_caprio\\\\di_caprio7.png',\n",
       "  './dataset/cropped/di_caprio\\\\di_caprio8.png',\n",
       "  './dataset/cropped/di_caprio\\\\di_caprio9.png'],\n",
       " 'dulquar_salmaan': ['./dataset/cropped/dulquar_salmaan\\\\dulquar_salmaan1.png',\n",
       "  './dataset/cropped/dulquar_salmaan\\\\dulquar_salmaan10.png',\n",
       "  './dataset/cropped/dulquar_salmaan\\\\dulquar_salmaan11.png',\n",
       "  './dataset/cropped/dulquar_salmaan\\\\dulquar_salmaan12.png',\n",
       "  './dataset/cropped/dulquar_salmaan\\\\dulquar_salmaan13.png',\n",
       "  './dataset/cropped/dulquar_salmaan\\\\dulquar_salmaan14.png',\n",
       "  './dataset/cropped/dulquar_salmaan\\\\dulquar_salmaan15.png',\n",
       "  './dataset/cropped/dulquar_salmaan\\\\dulquar_salmaan16.png',\n",
       "  './dataset/cropped/dulquar_salmaan\\\\dulquar_salmaan17.png',\n",
       "  './dataset/cropped/dulquar_salmaan\\\\dulquar_salmaan18.png',\n",
       "  './dataset/cropped/dulquar_salmaan\\\\dulquar_salmaan19.png',\n",
       "  './dataset/cropped/dulquar_salmaan\\\\dulquar_salmaan2.png',\n",
       "  './dataset/cropped/dulquar_salmaan\\\\dulquar_salmaan20.png',\n",
       "  './dataset/cropped/dulquar_salmaan\\\\dulquar_salmaan21.png',\n",
       "  './dataset/cropped/dulquar_salmaan\\\\dulquar_salmaan22.png',\n",
       "  './dataset/cropped/dulquar_salmaan\\\\dulquar_salmaan23.png',\n",
       "  './dataset/cropped/dulquar_salmaan\\\\dulquar_salmaan24.png',\n",
       "  './dataset/cropped/dulquar_salmaan\\\\dulquar_salmaan25.png',\n",
       "  './dataset/cropped/dulquar_salmaan\\\\dulquar_salmaan26.png',\n",
       "  './dataset/cropped/dulquar_salmaan\\\\dulquar_salmaan27.png',\n",
       "  './dataset/cropped/dulquar_salmaan\\\\dulquar_salmaan28.png',\n",
       "  './dataset/cropped/dulquar_salmaan\\\\dulquar_salmaan29.png',\n",
       "  './dataset/cropped/dulquar_salmaan\\\\dulquar_salmaan3.png',\n",
       "  './dataset/cropped/dulquar_salmaan\\\\dulquar_salmaan30.png',\n",
       "  './dataset/cropped/dulquar_salmaan\\\\dulquar_salmaan31.png',\n",
       "  './dataset/cropped/dulquar_salmaan\\\\dulquar_salmaan32.png',\n",
       "  './dataset/cropped/dulquar_salmaan\\\\dulquar_salmaan33.png',\n",
       "  './dataset/cropped/dulquar_salmaan\\\\dulquar_salmaan34.png',\n",
       "  './dataset/cropped/dulquar_salmaan\\\\dulquar_salmaan35.png',\n",
       "  './dataset/cropped/dulquar_salmaan\\\\dulquar_salmaan36.png',\n",
       "  './dataset/cropped/dulquar_salmaan\\\\dulquar_salmaan37.png',\n",
       "  './dataset/cropped/dulquar_salmaan\\\\dulquar_salmaan38.png',\n",
       "  './dataset/cropped/dulquar_salmaan\\\\dulquar_salmaan39.png',\n",
       "  './dataset/cropped/dulquar_salmaan\\\\dulquar_salmaan4.png',\n",
       "  './dataset/cropped/dulquar_salmaan\\\\dulquar_salmaan40.png',\n",
       "  './dataset/cropped/dulquar_salmaan\\\\dulquar_salmaan41.png',\n",
       "  './dataset/cropped/dulquar_salmaan\\\\dulquar_salmaan42.png',\n",
       "  './dataset/cropped/dulquar_salmaan\\\\dulquar_salmaan43.png',\n",
       "  './dataset/cropped/dulquar_salmaan\\\\dulquar_salmaan44.png',\n",
       "  './dataset/cropped/dulquar_salmaan\\\\dulquar_salmaan45.png',\n",
       "  './dataset/cropped/dulquar_salmaan\\\\dulquar_salmaan46.png',\n",
       "  './dataset/cropped/dulquar_salmaan\\\\dulquar_salmaan47.png',\n",
       "  './dataset/cropped/dulquar_salmaan\\\\dulquar_salmaan48.png',\n",
       "  './dataset/cropped/dulquar_salmaan\\\\dulquar_salmaan49.png',\n",
       "  './dataset/cropped/dulquar_salmaan\\\\dulquar_salmaan5.png',\n",
       "  './dataset/cropped/dulquar_salmaan\\\\dulquar_salmaan6.png',\n",
       "  './dataset/cropped/dulquar_salmaan\\\\dulquar_salmaan7.png',\n",
       "  './dataset/cropped/dulquar_salmaan\\\\dulquar_salmaan8.png',\n",
       "  './dataset/cropped/dulquar_salmaan\\\\dulquar_salmaan9.png'],\n",
       " 'lionel_messi': ['./dataset/cropped/lionel_messi\\\\lionel_messi1.png',\n",
       "  './dataset/cropped/lionel_messi\\\\lionel_messi10.png',\n",
       "  './dataset/cropped/lionel_messi\\\\lionel_messi11.png',\n",
       "  './dataset/cropped/lionel_messi\\\\lionel_messi12.png',\n",
       "  './dataset/cropped/lionel_messi\\\\lionel_messi13.png',\n",
       "  './dataset/cropped/lionel_messi\\\\lionel_messi14.png',\n",
       "  './dataset/cropped/lionel_messi\\\\lionel_messi15.png',\n",
       "  './dataset/cropped/lionel_messi\\\\lionel_messi16.png',\n",
       "  './dataset/cropped/lionel_messi\\\\lionel_messi17.png',\n",
       "  './dataset/cropped/lionel_messi\\\\lionel_messi18.png',\n",
       "  './dataset/cropped/lionel_messi\\\\lionel_messi19.png',\n",
       "  './dataset/cropped/lionel_messi\\\\lionel_messi2.png',\n",
       "  './dataset/cropped/lionel_messi\\\\lionel_messi20.png',\n",
       "  './dataset/cropped/lionel_messi\\\\lionel_messi21.png',\n",
       "  './dataset/cropped/lionel_messi\\\\lionel_messi22.png',\n",
       "  './dataset/cropped/lionel_messi\\\\lionel_messi23.png',\n",
       "  './dataset/cropped/lionel_messi\\\\lionel_messi24.png',\n",
       "  './dataset/cropped/lionel_messi\\\\lionel_messi25.png',\n",
       "  './dataset/cropped/lionel_messi\\\\lionel_messi26.png',\n",
       "  './dataset/cropped/lionel_messi\\\\lionel_messi27.png',\n",
       "  './dataset/cropped/lionel_messi\\\\lionel_messi28.png',\n",
       "  './dataset/cropped/lionel_messi\\\\lionel_messi29.png',\n",
       "  './dataset/cropped/lionel_messi\\\\lionel_messi3.png',\n",
       "  './dataset/cropped/lionel_messi\\\\lionel_messi30.png',\n",
       "  './dataset/cropped/lionel_messi\\\\lionel_messi31.png',\n",
       "  './dataset/cropped/lionel_messi\\\\lionel_messi32.png',\n",
       "  './dataset/cropped/lionel_messi\\\\lionel_messi33.png',\n",
       "  './dataset/cropped/lionel_messi\\\\lionel_messi34.png',\n",
       "  './dataset/cropped/lionel_messi\\\\lionel_messi35.png',\n",
       "  './dataset/cropped/lionel_messi\\\\lionel_messi36.png',\n",
       "  './dataset/cropped/lionel_messi\\\\lionel_messi37.png',\n",
       "  './dataset/cropped/lionel_messi\\\\lionel_messi38.png',\n",
       "  './dataset/cropped/lionel_messi\\\\lionel_messi39.png',\n",
       "  './dataset/cropped/lionel_messi\\\\lionel_messi4.png',\n",
       "  './dataset/cropped/lionel_messi\\\\lionel_messi5.png',\n",
       "  './dataset/cropped/lionel_messi\\\\lionel_messi6.png',\n",
       "  './dataset/cropped/lionel_messi\\\\lionel_messi7.png',\n",
       "  './dataset/cropped/lionel_messi\\\\lionel_messi8.png',\n",
       "  './dataset/cropped/lionel_messi\\\\lionel_messi9.png'],\n",
       " 'sachin_tendulkar': ['./dataset/cropped/sachin_tendulkar\\\\sachin_tendulkar1.png',\n",
       "  './dataset/cropped/sachin_tendulkar\\\\sachin_tendulkar10.png',\n",
       "  './dataset/cropped/sachin_tendulkar\\\\sachin_tendulkar11.png',\n",
       "  './dataset/cropped/sachin_tendulkar\\\\sachin_tendulkar12.png',\n",
       "  './dataset/cropped/sachin_tendulkar\\\\sachin_tendulkar13.png',\n",
       "  './dataset/cropped/sachin_tendulkar\\\\sachin_tendulkar14.png',\n",
       "  './dataset/cropped/sachin_tendulkar\\\\sachin_tendulkar15.png',\n",
       "  './dataset/cropped/sachin_tendulkar\\\\sachin_tendulkar16.png',\n",
       "  './dataset/cropped/sachin_tendulkar\\\\sachin_tendulkar17.png',\n",
       "  './dataset/cropped/sachin_tendulkar\\\\sachin_tendulkar18.png',\n",
       "  './dataset/cropped/sachin_tendulkar\\\\sachin_tendulkar19.png',\n",
       "  './dataset/cropped/sachin_tendulkar\\\\sachin_tendulkar2.png',\n",
       "  './dataset/cropped/sachin_tendulkar\\\\sachin_tendulkar20.png',\n",
       "  './dataset/cropped/sachin_tendulkar\\\\sachin_tendulkar21.png',\n",
       "  './dataset/cropped/sachin_tendulkar\\\\sachin_tendulkar22.png',\n",
       "  './dataset/cropped/sachin_tendulkar\\\\sachin_tendulkar23.png',\n",
       "  './dataset/cropped/sachin_tendulkar\\\\sachin_tendulkar24.png',\n",
       "  './dataset/cropped/sachin_tendulkar\\\\sachin_tendulkar25.png',\n",
       "  './dataset/cropped/sachin_tendulkar\\\\sachin_tendulkar26.png',\n",
       "  './dataset/cropped/sachin_tendulkar\\\\sachin_tendulkar27.png',\n",
       "  './dataset/cropped/sachin_tendulkar\\\\sachin_tendulkar28.png',\n",
       "  './dataset/cropped/sachin_tendulkar\\\\sachin_tendulkar29.png',\n",
       "  './dataset/cropped/sachin_tendulkar\\\\sachin_tendulkar3.png',\n",
       "  './dataset/cropped/sachin_tendulkar\\\\sachin_tendulkar30.png',\n",
       "  './dataset/cropped/sachin_tendulkar\\\\sachin_tendulkar31.png',\n",
       "  './dataset/cropped/sachin_tendulkar\\\\sachin_tendulkar32.png',\n",
       "  './dataset/cropped/sachin_tendulkar\\\\sachin_tendulkar33.png',\n",
       "  './dataset/cropped/sachin_tendulkar\\\\sachin_tendulkar34.png',\n",
       "  './dataset/cropped/sachin_tendulkar\\\\sachin_tendulkar35.png',\n",
       "  './dataset/cropped/sachin_tendulkar\\\\sachin_tendulkar36.png',\n",
       "  './dataset/cropped/sachin_tendulkar\\\\sachin_tendulkar37.png',\n",
       "  './dataset/cropped/sachin_tendulkar\\\\sachin_tendulkar38.png',\n",
       "  './dataset/cropped/sachin_tendulkar\\\\sachin_tendulkar39.png',\n",
       "  './dataset/cropped/sachin_tendulkar\\\\sachin_tendulkar4.png',\n",
       "  './dataset/cropped/sachin_tendulkar\\\\sachin_tendulkar40.png',\n",
       "  './dataset/cropped/sachin_tendulkar\\\\sachin_tendulkar41.png',\n",
       "  './dataset/cropped/sachin_tendulkar\\\\sachin_tendulkar5.png',\n",
       "  './dataset/cropped/sachin_tendulkar\\\\sachin_tendulkar6.png',\n",
       "  './dataset/cropped/sachin_tendulkar\\\\sachin_tendulkar7.png',\n",
       "  './dataset/cropped/sachin_tendulkar\\\\sachin_tendulkar8.png',\n",
       "  './dataset/cropped/sachin_tendulkar\\\\sachin_tendulkar9.png'],\n",
       " 'will_smith': ['./dataset/cropped/will_smith\\\\will_smith1.png',\n",
       "  './dataset/cropped/will_smith\\\\will_smith10.png',\n",
       "  './dataset/cropped/will_smith\\\\will_smith11.png',\n",
       "  './dataset/cropped/will_smith\\\\will_smith12.png',\n",
       "  './dataset/cropped/will_smith\\\\will_smith13.png',\n",
       "  './dataset/cropped/will_smith\\\\will_smith14.png',\n",
       "  './dataset/cropped/will_smith\\\\will_smith15.png',\n",
       "  './dataset/cropped/will_smith\\\\will_smith16.png',\n",
       "  './dataset/cropped/will_smith\\\\will_smith17.png',\n",
       "  './dataset/cropped/will_smith\\\\will_smith18.png',\n",
       "  './dataset/cropped/will_smith\\\\will_smith19.png',\n",
       "  './dataset/cropped/will_smith\\\\will_smith2.png',\n",
       "  './dataset/cropped/will_smith\\\\will_smith20.png',\n",
       "  './dataset/cropped/will_smith\\\\will_smith21.png',\n",
       "  './dataset/cropped/will_smith\\\\will_smith22.png',\n",
       "  './dataset/cropped/will_smith\\\\will_smith23.png',\n",
       "  './dataset/cropped/will_smith\\\\will_smith24.png',\n",
       "  './dataset/cropped/will_smith\\\\will_smith25.png',\n",
       "  './dataset/cropped/will_smith\\\\will_smith26.png',\n",
       "  './dataset/cropped/will_smith\\\\will_smith27.png',\n",
       "  './dataset/cropped/will_smith\\\\will_smith28.png',\n",
       "  './dataset/cropped/will_smith\\\\will_smith29.png',\n",
       "  './dataset/cropped/will_smith\\\\will_smith3.png',\n",
       "  './dataset/cropped/will_smith\\\\will_smith30.png',\n",
       "  './dataset/cropped/will_smith\\\\will_smith31.png',\n",
       "  './dataset/cropped/will_smith\\\\will_smith32.png',\n",
       "  './dataset/cropped/will_smith\\\\will_smith33.png',\n",
       "  './dataset/cropped/will_smith\\\\will_smith34.png',\n",
       "  './dataset/cropped/will_smith\\\\will_smith35.png',\n",
       "  './dataset/cropped/will_smith\\\\will_smith36.png',\n",
       "  './dataset/cropped/will_smith\\\\will_smith37.png',\n",
       "  './dataset/cropped/will_smith\\\\will_smith38.png',\n",
       "  './dataset/cropped/will_smith\\\\will_smith39.png',\n",
       "  './dataset/cropped/will_smith\\\\will_smith4.png',\n",
       "  './dataset/cropped/will_smith\\\\will_smith40.png',\n",
       "  './dataset/cropped/will_smith\\\\will_smith41.png',\n",
       "  './dataset/cropped/will_smith\\\\will_smith42.png',\n",
       "  './dataset/cropped/will_smith\\\\will_smith5.png',\n",
       "  './dataset/cropped/will_smith\\\\will_smith6.png',\n",
       "  './dataset/cropped/will_smith\\\\will_smith7.png',\n",
       "  './dataset/cropped/will_smith\\\\will_smith8.png',\n",
       "  './dataset/cropped/will_smith\\\\will_smith9.png']}"
      ]
     },
     "execution_count": 22,
     "metadata": {},
     "output_type": "execute_result"
    }
   ],
   "source": [
    "celebrity_file_names_dict = {}\n",
    "for img_dir in cropped_image_dirs:\n",
    "    celebrity_name = img_dir.split('/')[-1]\n",
    "    file_list = []\n",
    "    for entry in os.scandir(img_dir):\n",
    "        file_list.append(entry.path)\n",
    "    celebrity_file_names_dict[celebrity_name] = file_list\n",
    "celebrity_file_names_dict"
   ]
  },
  {
   "cell_type": "code",
   "execution_count": 23,
   "id": "781ee408",
   "metadata": {},
   "outputs": [
    {
     "data": {
      "text/plain": [
       "{'di_caprio': 0,\n",
       " 'dulquar_salmaan': 1,\n",
       " 'lionel_messi': 2,\n",
       " 'sachin_tendulkar': 3,\n",
       " 'will_smith': 4}"
      ]
     },
     "execution_count": 23,
     "metadata": {},
     "output_type": "execute_result"
    }
   ],
   "source": [
    "class_dict = {}\n",
    "count = 0\n",
    "for celebrity_name in celebrity_file_names_dict.keys():\n",
    "    class_dict[celebrity_name] = count\n",
    "    count = count + 1\n",
    "class_dict"
   ]
  },
  {
   "cell_type": "code",
   "execution_count": 24,
   "id": "f1568242",
   "metadata": {},
   "outputs": [],
   "source": [
    "X, y = [], []\n",
    "for celebrity_name, training_files in celebrity_file_names_dict.items():\n",
    "    for training_image in training_files:\n",
    "        img = cv2.imread(training_image)\n",
    "        scalled_raw_img = cv2.resize(img, (32, 32))\n",
    "        img_har = w2d(img,'db1',5)\n",
    "        scalled_img_har = cv2.resize(img_har, (32, 32))\n",
    "        combined_img = np.vstack((scalled_raw_img.reshape(32*32*3,1),scalled_img_har.reshape(32*32,1)))\n",
    "        X.append(combined_img)\n",
    "        y.append(class_dict[celebrity_name])    "
   ]
  },
  {
   "cell_type": "code",
   "execution_count": 25,
   "id": "11a2f284",
   "metadata": {},
   "outputs": [
    {
     "data": {
      "text/plain": [
       "(218, 4096)"
      ]
     },
     "execution_count": 25,
     "metadata": {},
     "output_type": "execute_result"
    }
   ],
   "source": [
    "# converting to float\n",
    "X = np.array(X).reshape(len(X),4096).astype(float)\n",
    "X.shape"
   ]
  },
  {
   "cell_type": "code",
   "execution_count": null,
   "id": "8fa10744",
   "metadata": {},
   "outputs": [],
   "source": [
    "# Training the model starts from here"
   ]
  },
  {
   "cell_type": "code",
   "execution_count": 26,
   "id": "a8762735",
   "metadata": {},
   "outputs": [],
   "source": [
    "from sklearn.svm import SVC\n",
    "from sklearn.preprocessing import StandardScaler\n",
    "from sklearn.model_selection import train_test_split\n",
    "from sklearn.pipeline import Pipeline\n",
    "from sklearn.metrics import classification_report"
   ]
  },
  {
   "cell_type": "code",
   "execution_count": 27,
   "id": "834d0260",
   "metadata": {},
   "outputs": [
    {
     "data": {
      "text/plain": [
       "0.7272727272727273"
      ]
     },
     "execution_count": 27,
     "metadata": {},
     "output_type": "execute_result"
    }
   ],
   "source": [
    "X_train, X_test, y_train, y_test = train_test_split(X, y, random_state=0)\n",
    "\n",
    "pipe = Pipeline([('scaler', StandardScaler()), ('svc', SVC(kernel = 'rbf', C = 10))])\n",
    "pipe.fit(X_train, y_train)\n",
    "pipe.score(X_test, y_test)"
   ]
  },
  {
   "cell_type": "code",
   "execution_count": 28,
   "id": "246c0e9b",
   "metadata": {},
   "outputs": [
    {
     "name": "stdout",
     "output_type": "stream",
     "text": [
      "              precision    recall  f1-score   support\n",
      "\n",
      "           0       0.50      0.91      0.65        11\n",
      "           1       0.85      1.00      0.92        11\n",
      "           2       0.75      0.30      0.43        10\n",
      "           3       1.00      0.57      0.73        14\n",
      "           4       0.80      0.89      0.84         9\n",
      "\n",
      "    accuracy                           0.73        55\n",
      "   macro avg       0.78      0.73      0.71        55\n",
      "weighted avg       0.79      0.73      0.71        55\n",
      "\n"
     ]
    }
   ],
   "source": [
    "print(classification_report(y_test, pipe.predict(X_test)))"
   ]
  },
  {
   "cell_type": "code",
   "execution_count": 29,
   "id": "e3e53267",
   "metadata": {},
   "outputs": [],
   "source": [
    "from sklearn import svm\n",
    "from sklearn.ensemble import RandomForestClassifier\n",
    "from sklearn.linear_model import LogisticRegression\n",
    "from sklearn.pipeline import make_pipeline\n",
    "from sklearn.model_selection import GridSearchCV"
   ]
  },
  {
   "cell_type": "code",
   "execution_count": 30,
   "id": "c87a5c79",
   "metadata": {},
   "outputs": [],
   "source": [
    "model_params = {\n",
    "    'svm': {\n",
    "        'model': svm.SVC(gamma='auto',probability=True),\n",
    "        'params' : {\n",
    "            'svc__C': [1,10,100,1000],\n",
    "            'svc__kernel': ['rbf','linear']\n",
    "        }  \n",
    "    },\n",
    "    'random_forest': {\n",
    "        'model': RandomForestClassifier(),\n",
    "        'params' : {\n",
    "            'randomforestclassifier__n_estimators': [1,5,10]\n",
    "        }\n",
    "    },\n",
    "    'logistic_regression' : {\n",
    "        'model': LogisticRegression(solver='liblinear',multi_class='auto'),\n",
    "        'params': {\n",
    "            'logisticregression__C': [1,5,10]\n",
    "        }\n",
    "    }\n",
    "}"
   ]
  },
  {
   "cell_type": "code",
   "execution_count": 31,
   "id": "e37330e1",
   "metadata": {},
   "outputs": [
    {
     "data": {
      "text/html": [
       "<div>\n",
       "<style scoped>\n",
       "    .dataframe tbody tr th:only-of-type {\n",
       "        vertical-align: middle;\n",
       "    }\n",
       "\n",
       "    .dataframe tbody tr th {\n",
       "        vertical-align: top;\n",
       "    }\n",
       "\n",
       "    .dataframe thead th {\n",
       "        text-align: right;\n",
       "    }\n",
       "</style>\n",
       "<table border=\"1\" class=\"dataframe\">\n",
       "  <thead>\n",
       "    <tr style=\"text-align: right;\">\n",
       "      <th></th>\n",
       "      <th>model</th>\n",
       "      <th>best_score</th>\n",
       "      <th>best_params</th>\n",
       "    </tr>\n",
       "  </thead>\n",
       "  <tbody>\n",
       "    <tr>\n",
       "      <th>0</th>\n",
       "      <td>svm</td>\n",
       "      <td>0.760985</td>\n",
       "      <td>{'svc__C': 1, 'svc__kernel': 'linear'}</td>\n",
       "    </tr>\n",
       "    <tr>\n",
       "      <th>1</th>\n",
       "      <td>random_forest</td>\n",
       "      <td>0.601326</td>\n",
       "      <td>{'randomforestclassifier__n_estimators': 10}</td>\n",
       "    </tr>\n",
       "    <tr>\n",
       "      <th>2</th>\n",
       "      <td>logistic_regression</td>\n",
       "      <td>0.828030</td>\n",
       "      <td>{'logisticregression__C': 1}</td>\n",
       "    </tr>\n",
       "  </tbody>\n",
       "</table>\n",
       "</div>"
      ],
      "text/plain": [
       "                 model  best_score  \\\n",
       "0                  svm    0.760985   \n",
       "1        random_forest    0.601326   \n",
       "2  logistic_regression    0.828030   \n",
       "\n",
       "                                    best_params  \n",
       "0        {'svc__C': 1, 'svc__kernel': 'linear'}  \n",
       "1  {'randomforestclassifier__n_estimators': 10}  \n",
       "2                  {'logisticregression__C': 1}  "
      ]
     },
     "execution_count": 31,
     "metadata": {},
     "output_type": "execute_result"
    }
   ],
   "source": [
    "scores = []\n",
    "best_estimators = {}\n",
    "import pandas as pd\n",
    "for algo, mp in model_params.items():\n",
    "    pipe = make_pipeline(StandardScaler(), mp['model'])\n",
    "    clf =  GridSearchCV(pipe, mp['params'], cv=5, return_train_score=False)\n",
    "    clf.fit(X_train, y_train)\n",
    "    scores.append({\n",
    "        'model': algo,\n",
    "        'best_score': clf.best_score_,\n",
    "        'best_params': clf.best_params_\n",
    "    })\n",
    "    best_estimators[algo] = clf.best_estimator_\n",
    "    \n",
    "df = pd.DataFrame(scores,columns=['model','best_score','best_params'])\n",
    "df"
   ]
  },
  {
   "cell_type": "code",
   "execution_count": 32,
   "id": "20688368",
   "metadata": {},
   "outputs": [
    {
     "data": {
      "text/plain": [
       "{'svm': Pipeline(steps=[('standardscaler', StandardScaler()),\n",
       "                 ('svc',\n",
       "                  SVC(C=1, gamma='auto', kernel='linear', probability=True))]),\n",
       " 'random_forest': Pipeline(steps=[('standardscaler', StandardScaler()),\n",
       "                 ('randomforestclassifier',\n",
       "                  RandomForestClassifier(n_estimators=10))]),\n",
       " 'logistic_regression': Pipeline(steps=[('standardscaler', StandardScaler()),\n",
       "                 ('logisticregression',\n",
       "                  LogisticRegression(C=1, solver='liblinear'))])}"
      ]
     },
     "execution_count": 32,
     "metadata": {},
     "output_type": "execute_result"
    }
   ],
   "source": [
    "best_estimators"
   ]
  },
  {
   "cell_type": "code",
   "execution_count": 33,
   "id": "87ec4f75",
   "metadata": {},
   "outputs": [
    {
     "data": {
      "text/plain": [
       "0.8181818181818182"
      ]
     },
     "execution_count": 33,
     "metadata": {},
     "output_type": "execute_result"
    }
   ],
   "source": [
    "best_estimators['svm'].score(X_test,y_test)"
   ]
  },
  {
   "cell_type": "code",
   "execution_count": 34,
   "id": "165746c3",
   "metadata": {},
   "outputs": [
    {
     "data": {
      "text/plain": [
       "0.6"
      ]
     },
     "execution_count": 34,
     "metadata": {},
     "output_type": "execute_result"
    }
   ],
   "source": [
    "best_estimators['random_forest'].score(X_test,y_test)"
   ]
  },
  {
   "cell_type": "code",
   "execution_count": 35,
   "id": "9119bcc4",
   "metadata": {},
   "outputs": [
    {
     "data": {
      "text/plain": [
       "0.9272727272727272"
      ]
     },
     "execution_count": 35,
     "metadata": {},
     "output_type": "execute_result"
    }
   ],
   "source": [
    "best_estimators['logistic_regression'].score(X_test,y_test)"
   ]
  },
  {
   "cell_type": "code",
   "execution_count": 36,
   "id": "0f1f4e29",
   "metadata": {},
   "outputs": [],
   "source": [
    "best_clf = best_estimators['logistic_regression']"
   ]
  },
  {
   "cell_type": "code",
   "execution_count": 37,
   "id": "88327e89",
   "metadata": {},
   "outputs": [
    {
     "data": {
      "text/plain": [
       "array([[11,  0,  0,  0,  0],\n",
       "       [ 0, 11,  0,  0,  0],\n",
       "       [ 1,  1,  7,  0,  1],\n",
       "       [ 1,  0,  0, 13,  0],\n",
       "       [ 0,  0,  0,  0,  9]], dtype=int64)"
      ]
     },
     "execution_count": 37,
     "metadata": {},
     "output_type": "execute_result"
    }
   ],
   "source": [
    "from sklearn.metrics import confusion_matrix\n",
    "cm = confusion_matrix(y_test, best_clf.predict(X_test))\n",
    "cm"
   ]
  },
  {
   "cell_type": "code",
   "execution_count": 38,
   "id": "279f9f86",
   "metadata": {},
   "outputs": [
    {
     "data": {
      "text/plain": [
       "Text(69.0, 0.5, 'Truth')"
      ]
     },
     "execution_count": 38,
     "metadata": {},
     "output_type": "execute_result"
    },
    {
     "data": {
      "image/png": "[encoded data removed]",
      "text/plain": [
       "<Figure size 720x504 with 2 Axes>"
      ]
     },
     "metadata": {
      "needs_background": "light"
     },
     "output_type": "display_data"
    }
   ],
   "source": [
    "import seaborn as sn\n",
    "plt.figure(figsize = (10,7))\n",
    "sn.heatmap(cm, annot=True)\n",
    "plt.xlabel('Predicted')\n",
    "plt.ylabel('Truth')"
   ]
  },
  {
   "cell_type": "code",
   "execution_count": 39,
   "id": "0e82a118",
   "metadata": {},
   "outputs": [
    {
     "data": {
      "text/plain": [
       "{'di_caprio': 0,\n",
       " 'dulquar_salmaan': 1,\n",
       " 'lionel_messi': 2,\n",
       " 'sachin_tendulkar': 3,\n",
       " 'will_smith': 4}"
      ]
     },
     "execution_count": 39,
     "metadata": {},
     "output_type": "execute_result"
    }
   ],
   "source": [
    "class_dict"
   ]
  },
  {
   "cell_type": "code",
   "execution_count": 40,
   "id": "76c72497",
   "metadata": {},
   "outputs": [
    {
     "name": "stdout",
     "output_type": "stream",
     "text": [
      "Requirement already satisfied: joblib in c:\\users\\sarath\\anaconda3\\lib\\site-packages (1.1.0)\n"
     ]
    },
    {
     "data": {
      "text/plain": [
       "['saved_model.pkl']"
      ]
     },
     "execution_count": 40,
     "metadata": {},
     "output_type": "execute_result"
    }
   ],
   "source": [
    "!pip install joblib\n",
    "import joblib \n",
    "# Save the trained model  \n",
    "joblib.dump(best_clf, 'saved_model.pkl') "
   ]
  },
  {
   "cell_type": "code",
   "execution_count": 41,
   "id": "8af61f5f",
   "metadata": {},
   "outputs": [],
   "source": [
    "import json\n",
    "# Save the dictionary\n",
    "with open(\"class_dictionary.json\",\"w\") as f:\n",
    "    f.write(json.dumps(class_dict))"
   ]
  },
  {
   "cell_type": "code",
   "execution_count": null,
   "id": "b714e594",
   "metadata": {},
   "outputs": [],
   "source": []
  }
 ],
 "metadata": {
  "kernelspec": {
   "display_name": "Python 3 (ipykernel)",
   "language": "python",
   "name": "python3"
  },
  "language_info": {
   "codemirror_mode": {
    "name": "ipython",
    "version": 3
   },
   "file_extension": ".py",
   "mimetype": "text/x-python",
   "name": "python",
   "nbconvert_exporter": "python",
   "pygments_lexer": "ipython3",
   "version": "3.9.7"
  }
 },
 "nbformat": 4,
 "nbformat_minor": 5
}
